{
  "nbformat": 4,
  "nbformat_minor": 0,
  "metadata": {
    "colab": {
      "provenance": []
    },
    "kernelspec": {
      "name": "python3",
      "display_name": "Python 3"
    },
    "language_info": {
      "name": "python"
    }
  },
  "cells": [
    {
      "cell_type": "code",
      "execution_count": null,
      "metadata": {
        "id": "kGr03SUuNaJ2"
      },
      "outputs": [],
      "source": [
        "#NO.1 PENANGANAN KESALAHAN INPUT PADA CONTOH 3.1\n",
        "#Demam atau tidak?\n",
        "\n",
        "inputuser = input(\"Masukkan Suhu Badan Anda : \")\n",
        "try :\n",
        "    suhu_badan = int(inputuser)\n",
        "    if suhu_badan >= 38 :\n",
        "        print(\"Anda Demam\")\n",
        "    else :\n",
        "         print(\"Anda Baik-baik Saja\")\n",
        "except :\n",
        "    print(\"Masukkan anda salah, coba lagi dengan inputan yang benar!!!\")"
      ]
    },
    {
      "cell_type": "code",
      "source": [
        "#NO.1 PENANGANAN KESALAHAN INPUT PADA CONTOH 3.2\n",
        "#Positif atau negatif?\n",
        "inputuser = input(\"masukkan angka sesuka anda : \")\n",
        "try :\n",
        "    bilangan = int(inputuser)\n",
        "\n",
        "    if bilangan > 0 :\n",
        "         print(\"bilangan positif\")\n",
        "    elif bilangan < 0 :\n",
        "        print(\"bilangan negatif\")\n",
        "    elif bilangan == 0 :\n",
        "        print(\" ini nol\")\n",
        "except :\n",
        "    print(\"Inputan anda salah, silahkan memasukkan inputan yang benar\")"
      ],
      "metadata": {
        "id": "id-nFny-OeJu"
      },
      "execution_count": null,
      "outputs": []
    },
    {
      "cell_type": "code",
      "source": [
        "#NO.1 PENANGANAN KESALAHAN INPUT PADA CONTOH 3.3\n",
        "#Terbesar\n",
        "\n",
        "inputuser1 = input(\"masukkan a :\")\n",
        "inputuser2 = input(\"masukkan b : \")\n",
        "inputuser3 = input(\"masukkan c : \")\n",
        "try :\n",
        "    a = int(inputuser1)\n",
        "    b = int(inputuser2)\n",
        "    c = int(inputuser3)\n",
        "    if a > b and a > c :\n",
        "        print(\"bilangan terbesar : \", a)\n",
        "    elif b > a and b > c :\n",
        "        print(\"bilangan terbesar : \", b)\n",
        "    elif c > a and c > b :\n",
        "        print(\"bilangan terbesar : \", c)\n",
        "except :\n",
        "    print(\"Inputan anda salah, silahkan masukkan inputan yang benar!\")"
      ],
      "metadata": {
        "id": "C1bLrVAAOtWY"
      },
      "execution_count": null,
      "outputs": []
    },
    {
      "cell_type": "code",
      "source": [
        "#SOAL NO.2 TERNARY OPERATOR\n",
        "bilangan = int(input(\"Masukkan bilangan: \"))\n",
        "print(\"Negatif\" if bilangan < 0 else \"Nol\" if bilangan == 0  else  \"Positif\"  )"
      ],
      "metadata": {
        "id": "X4LXje-hO2Q7"
      },
      "execution_count": null,
      "outputs": []
    },
    {
      "cell_type": "code",
      "source": [
        "#SOAL NO.3 TAHUN 2020\n",
        "# 31 hari = 1, 3, 7, 8, 10, 12\n",
        "# 30 hari = 4, 5, 6, 9, 11\n",
        "# 29 hari = 2\n",
        "\n",
        "inputuser = input(\"Masukkan Bulan (1-12): \")\n",
        "try :\n",
        "    bulan = int(inputuser)\n",
        "\n",
        "    if bulan == 1 :\n",
        "        print(\"Jumlah Hari : 31 \")\n",
        "    elif bulan == 3 :\n",
        "        print(\"Jumlah Hari : 31 \")\n",
        "    elif bulan == 7 :\n",
        "        print(\"Jumlah Hari : 31 \")\n",
        "    elif bulan == 8 :\n",
        "        print(\"Jumlah Hari : 31 \")\n",
        "    elif bulan == 10 :\n",
        "        print(\"Jumlah Hari : 31 \")\n",
        "    elif bulan == 12 :\n",
        "        print(\"Jumlah Hari : 31 \")\n",
        "    elif bulan == 4 :\n",
        "        print(\"Jumlah Hari : 30 \")\n",
        "    elif bulan == 5 :\n",
        "        print(\"Jumlah Hari : 30 \")\n",
        "    elif bulan == 6 :\n",
        "        print(\"Jumlah Hari : 30 \")\n",
        "    elif bulan == 9 :\n",
        "        print(\"Jumlah Hari : 30 \")\n",
        "    elif bulan == 11 :\n",
        "        print(\"Jumlah Hari : 30 \")\n",
        "    elif bulan == 2 :\n",
        "        print(\"Jumlah Hari : 29 \")\n",
        "    elif bulan > 12 :\n",
        "        print(\"Bulan hanya sampai 12\")\n",
        "except :\n",
        "    print(\"Bulan yang anda inputkan tidak valid\")\n",
        "\n"
      ],
      "metadata": {
        "id": "a5jPFRRvPA9J"
      },
      "execution_count": null,
      "outputs": []
    },
    {
      "cell_type": "code",
      "source": [
        "#SOAL NO.4\n",
        "inputuser1 = input(\"Masukkan Sisi 1 : \")\n",
        "inputuser2 = input(\"Masukkan Sisi 2 : \")\n",
        "inputuser3 = input(\"Masukkan Sisi 3 : \")\n",
        "\n",
        "try :\n",
        "    a = int(inputuser1)\n",
        "    b = int(inputuser2)\n",
        "    c = int(inputuser3)\n",
        "\n",
        "    if a == b and a == c and b == c :\n",
        "        print(\"3 sisi sama\")\n",
        "\n",
        "    elif a == b and a != c and b != c :\n",
        "        print(\"2 sisi sama\")\n",
        "    elif a == c and a != b and c != b :\n",
        "        print(\"2 sisi sama\")\n",
        "    elif b == c and b != a and c != a :\n",
        "        print(\"2 sisi sama\")\n",
        "\n",
        "    elif a != b and a != c and b != c :\n",
        "        print(\"tidak ada yang sama \")\n",
        "except :\n",
        "    print(\"Inputan anda tidak valid\")"
      ],
      "metadata": {
        "id": "QPmosu33PH2i"
      },
      "execution_count": null,
      "outputs": []
    }
  ]
}